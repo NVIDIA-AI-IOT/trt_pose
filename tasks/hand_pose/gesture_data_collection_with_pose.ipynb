{
 "cells": [
  {
   "cell_type": "code",
   "execution_count": null,
   "metadata": {},
   "outputs": [],
   "source": [
    "import os\n",
    "import json\n",
    "import cv2\n",
    "import matplotlib.pyplot as plt\n",
    "import matplotlib.image as mpimg \n",
    "import math\n",
    "import numpy as np\n",
    "import traitlets\n",
    "import trt_pose.coco"
   ]
  },
  {
   "cell_type": "code",
   "execution_count": null,
   "metadata": {},
   "outputs": [],
   "source": [
    "with open('hand_pose.json', 'r') as f:\n",
    "    hand_pose = json.load(f)\n",
    "\n",
    "topology = trt_pose.coco.coco_category_to_topology(hand_pose)\n",
    "import trt_pose.models\n",
    "\n",
    "num_parts = len(hand_pose['keypoints'])\n",
    "num_links = len(hand_pose['skeleton'])\n",
    "\n",
    "model = trt_pose.models.resnet18_baseline_att(num_parts, 2 * num_links).cuda().eval()\n",
    "import torch\n",
    "\n",
    "\n",
    "WIDTH = 256\n",
    "HEIGHT = 256\n",
    "data = torch.zeros((1, 3, HEIGHT, WIDTH)).cuda()\n",
    "\n",
    "if not os.path.exists('resnet18_244x224_epoch_4150_trt.pth'):\n",
    "    MODEL_WEIGHTS = 'resnet18_244x224_epoch_4150.pth'\n",
    "    model.load_state_dict(torch.load(MODEL_WEIGHTS))\n",
    "    import torch2trt\n",
    "    model_trt = torch2trt.torch2trt(model, [data], fp16_mode=True, max_workspace_size=1<<25)\n",
    "    OPTIMIZED_MODEL = 'resnet18_244x224_epoch_4150_trt.pth'\n",
    "    torch.save(model_trt.state_dict(), OPTIMIZED_MODEL)\n",
    "\n",
    "\n",
    "OPTIMIZED_MODEL = 'resnet18_244x224_epoch_4150_trt.pth'\n",
    "from torch2trt import TRTModule\n",
    "\n",
    "model_trt = TRTModule()\n",
    "model_trt.load_state_dict(torch.load(OPTIMIZED_MODEL))"
   ]
  },
  {
   "cell_type": "code",
   "execution_count": null,
   "metadata": {},
   "outputs": [],
   "source": [
    "from trt_pose.draw_objects import DrawObjects\n",
    "from trt_pose.parse_objects import ParseObjects\n",
    "\n",
    "parse_objects = ParseObjects(topology,cmap_threshold=0.35, link_threshold=0.15)\n",
    "draw_objects = DrawObjects(topology)"
   ]
  },
  {
   "cell_type": "markdown",
   "metadata": {},
   "source": [
    "This notebook creates a dataset (images and labels as a json file). The dataset created can be used for pose classification.   \n",
    "In order to create a new dataset for gesture recoginition specify the following parameters \n",
    "\n",
    "**no_of_classes** - Number of classes to be created. i.e. For hand pose the number of hand gestures to be created.\n",
    "\n",
    "**path_dir** - Path to the directory to be created\n",
    "\n",
    "**dataset_name** - The name of the dataset to be created\n"
   ]
  },
  {
   "cell_type": "code",
   "execution_count": null,
   "metadata": {},
   "outputs": [],
   "source": [
    "def create_directories_for_classes(no_of_classes, path_dir, dataset_name):\n",
    "    dir_ = os.path.join(path_dir, dataset_name)\n",
    "    for i in range(no_of_classes):\n",
    "        dir_to_create = os.path.join(dir_,\"%s\" % (i+1))\n",
    "        try:\n",
    "            os.makedirs(dir_to_create)\n",
    "        except FileExistsError:\n",
    "            print(os.path.join(\"The following directory was not created because it already exsists\", dir_ , ))\n"
   ]
  },
  {
   "cell_type": "code",
   "execution_count": null,
   "metadata": {},
   "outputs": [],
   "source": [
    "dir_datasets = '/home/mikyas/mike_dataset/gesture/'\n",
    "dataset_name = \"hand_dataset_test\"\n",
    "no_of_classes = 6\n",
    "create_directories_for_classes(no_of_classes, dir_datasets, dataset_name )"
   ]
  },
  {
   "cell_type": "code",
   "execution_count": null,
   "metadata": {},
   "outputs": [],
   "source": [
    "import ipywidgets.widgets as widgets\n",
    "dir_ = os.path.join(dir_datasets, dataset_name)\n",
    "curr_class_no = 1\n",
    "button_layout = widgets.Layout(width='128px', height='32px')\n",
    "curr_dir = os.path.join(dir_,'%s'%curr_class_no )\n",
    "collecting_button = widgets.Button(description= 'Collect Class ' + str(curr_class_no), button_style='success', layout=button_layout)\n",
    "prev_button = widgets.Button(description='Previous Class', button_style='primary', layout=button_layout)\n",
    "nxt_button = widgets.Button(description='Next Class', button_style='info', layout=button_layout)\n",
    "\n",
    "dir_count = widgets.IntText(layout=button_layout, value=len(os.listdir(curr_dir)))\n",
    "dir_count.continuous_update"
   ]
  },
  {
   "cell_type": "code",
   "execution_count": null,
   "metadata": {},
   "outputs": [],
   "source": [
    "from uuid import uuid1\n",
    "def save_snapshot(directory):\n",
    "    image_path = os.path.join(directory, str(uuid1()) + '.jpg')\n",
    "    with open(image_path, 'wb') as f:\n",
    "        f.write(image_s.value)\n",
    "def save_dir():\n",
    "    global curr_dir, dir_count\n",
    "    save_snapshot(curr_dir)\n",
    "    dir_count.value = len(os.listdir(curr_dir))\n",
    "def prev_dir():\n",
    "    global curr_class_no, curr_dir, no_of_classes\n",
    "    if curr_class_no>1:\n",
    "        curr_class_no-=1\n",
    "    curr_dir = os.path.join(dir_,'%s'%curr_class_no )\n",
    "    collecting_button.description = 'Collect Class ' + str(curr_class_no)\n",
    "    dir_count.value = len(os.listdir(curr_dir))\n",
    "    dir_count.continuous_update\n",
    "def nxt_dir():\n",
    "    global curr_class_no, curr_dir, no_of_classes\n",
    "    if curr_class_no<no_of_classes:\n",
    "        curr_class_no+=1\n",
    "    curr_dir = os.path.join(dir_,'%s'%curr_class_no )\n",
    "    collecting_button.description = 'Collect Class ' + str(curr_class_no)\n",
    "    dir_count.value = len(os.listdir(curr_dir))\n",
    "\n",
    "        \n",
    "\n",
    "collecting_button.on_click(lambda x: save_dir())\n",
    "nxt_button.on_click(lambda x: nxt_dir())\n",
    "prev_button.on_click(lambda x: prev_dir())\n",
    "\n"
   ]
  },
  {
   "cell_type": "code",
   "execution_count": null,
   "metadata": {},
   "outputs": [],
   "source": [
    "from jetcam.usb_camera import USBCamera\n",
    "from jetcam.csi_camera import CSICamera\n",
    "from jetcam.utils import bgr8_to_jpeg\n",
    "WIDTH = 256\n",
    "HEIGHT = 256\n",
    "camera = USBCamera(width=WIDTH, height=HEIGHT, capture_fps=30, capture_device=1)\n",
    "#camera = CSICamera(width=WIDTH, height=HEIGHT, capture_fps=50)\n",
    "\n",
    "camera.running = True"
   ]
  },
  {
   "cell_type": "code",
   "execution_count": null,
   "metadata": {},
   "outputs": [],
   "source": [
    "import ipywidgets\n",
    "from IPython.display import display\n",
    "\n",
    "image_w = ipywidgets.Image(format='jpeg', width=256, height=256)\n",
    "image_s = ipywidgets.Image(format='jpeg', width=256, height=256)\n"
   ]
  },
  {
   "cell_type": "code",
   "execution_count": null,
   "metadata": {},
   "outputs": [],
   "source": [
    "import torchvision.transforms as transforms\n",
    "import PIL.Image\n",
    "\n",
    "mean = torch.Tensor([0.485, 0.456, 0.406]).cuda()\n",
    "std = torch.Tensor([0.229, 0.224, 0.225]).cuda()\n",
    "device = torch.device('cuda')\n",
    "\n",
    "def preprocess(image):\n",
    "    global device\n",
    "    device = torch.device('cuda')\n",
    "    image = cv2.cvtColor(image, cv2.COLOR_BGR2RGB)\n",
    "    image = PIL.Image.fromarray(image)\n",
    "    image = transforms.functional.to_tensor(image).to(device)\n",
    "    image.sub_(mean[:, None, None]).div_(std[:, None, None])\n",
    "    return image[None, ...]"
   ]
  },
  {
   "cell_type": "code",
   "execution_count": null,
   "metadata": {},
   "outputs": [],
   "source": [
    "display(image_w)\n",
    "display(widgets.HBox([dir_count, collecting_button]))\n",
    "display(widgets.HBox([ nxt_button]))\n",
    "display(widgets.HBox([ prev_button]))"
   ]
  },
  {
   "cell_type": "code",
   "execution_count": null,
   "metadata": {},
   "outputs": [],
   "source": [
    "def execute(change):\n",
    "    image = change['new']\n",
    "    #image_s = image\n",
    "    image_s.value = bgr8_to_jpeg(image[:, ::-1, :])\n",
    "    data = preprocess(image)\n",
    "    cmap, paf = model_trt(data)\n",
    "    cmap, paf = cmap.detach().cpu(), paf.detach().cpu()\n",
    "    counts, objects, peaks = parse_objects(cmap, paf)#, cmap_threshold=0.15, link_threshold=0.15)\n",
    "    draw_objects(image, counts, objects, peaks)\n",
    "    image_w.value = bgr8_to_jpeg(image[:, ::-1, :])\n",
    "    #image_w.value = bgr8_to_jpeg(image)"
   ]
  },
  {
   "cell_type": "code",
   "execution_count": null,
   "metadata": {},
   "outputs": [],
   "source": [
    "execute({'new': camera.value})"
   ]
  },
  {
   "cell_type": "code",
   "execution_count": null,
   "metadata": {},
   "outputs": [],
   "source": [
    "camera.observe(execute, names='value')"
   ]
  },
  {
   "cell_type": "code",
   "execution_count": null,
   "metadata": {},
   "outputs": [],
   "source": [
    "camera.unobserve_all()"
   ]
  },
  {
   "cell_type": "code",
   "execution_count": null,
   "metadata": {},
   "outputs": [],
   "source": [
    "camera.running = False"
   ]
  },
  {
   "cell_type": "code",
   "execution_count": null,
   "metadata": {},
   "outputs": [],
   "source": [
    "def generate_labels(dir_, dataset_name):\n",
    "    labels = []\n",
    "    starting_label = 1\n",
    "    for i in range(len(os.listdir(dir_))):\n",
    "        dir_to_check = os.path.join(dir_,\"%s\" % (i+1))\n",
    "        for j in range(len(os.listdir(dir_to_check))):\n",
    "            labels.append(starting_label)\n",
    "        starting_label+=1\n",
    "    labels_to_dict = {\"labels\": labels}\n",
    "    with open((dir_+'.json'), 'w') as outfile:\n",
    "        json.dump(labels_to_dict, outfile)\n",
    "    return labels      "
   ]
  },
  {
   "cell_type": "code",
   "execution_count": null,
   "metadata": {},
   "outputs": [],
   "source": [
    "def rename_images(dir_):\n",
    "    overall_count = 0\n",
    "    #dir_ = dir_+dataset_name\n",
    "    for i in range(len(os.listdir(dir_))):\n",
    "        dir_to_check = os.path.join(dir_,\"%s\" % (i+1))\n",
    "        dir_to_check+='/'\n",
    "        for count, filename in enumerate(os.listdir(dir_to_check)):\n",
    "            dst = \"%08d.jpg\"% overall_count\n",
    "            src = dir_to_check+filename\n",
    "            dst = dir_to_check+dst \n",
    "            os.rename(src, dst)\n",
    "            overall_count+=1"
   ]
  },
  {
   "cell_type": "code",
   "execution_count": null,
   "metadata": {},
   "outputs": [],
   "source": [
    "generate_labels(dir_, dataset_name)\n",
    "rename_images(dir_)"
   ]
  },
  {
   "cell_type": "code",
   "execution_count": null,
   "metadata": {},
   "outputs": [],
   "source": [
    "import shutil\n",
    "dir_training = dir_datasets +'/testing/'\n",
    "try:\n",
    "    os.makedirs(dir_training)\n",
    "except FileExistsError:\n",
    "    print(os.path.join(\"The following directory was not created because it already exsists\", dir_ , ))\n",
    "for i in range(len(os.listdir(dir_))):\n",
    "    dir_to_check = os.path.join(dir_,\"%s\" % (i+1))+'/'\n",
    "    for count, filename in enumerate(os.listdir(dir_to_check)):\n",
    "            src = dir_to_check+filename\n",
    "            shutil.move(src,dir_training)\n",
    "    os.rmdir(dir_to_check)\n",
    "shutil.move(dir_training,dir_)\n",
    "shutil.move(dir_+'.json',dir_)"
   ]
  },
  {
   "cell_type": "code",
   "execution_count": null,
   "metadata": {},
   "outputs": [],
   "source": []
  },
  {
   "cell_type": "code",
   "execution_count": null,
   "metadata": {},
   "outputs": [],
   "source": []
  },
  {
   "cell_type": "code",
   "execution_count": null,
   "metadata": {},
   "outputs": [],
   "source": []
  },
  {
   "cell_type": "code",
   "execution_count": null,
   "metadata": {},
   "outputs": [],
   "source": []
  }
 ],
 "metadata": {
  "kernelspec": {
   "display_name": "Python 3",
   "language": "python",
   "name": "python3"
  },
  "language_info": {
   "codemirror_mode": {
    "name": "ipython",
    "version": 3
   },
   "file_extension": ".py",
   "mimetype": "text/x-python",
   "name": "python",
   "nbconvert_exporter": "python",
   "pygments_lexer": "ipython3",
   "version": "3.6.9"
  }
 },
 "nbformat": 4,
 "nbformat_minor": 4
}
